{
 "cells": [
  {
   "cell_type": "code",
   "execution_count": 1,
   "metadata": {
    "collapsed": true
   },
   "outputs": [],
   "source": [
    "%matplotlib inline\n",
    "%load_ext autoreload\n",
    "%autoreload 2"
   ]
  },
  {
   "cell_type": "code",
   "execution_count": 2,
   "metadata": {
    "collapsed": true
   },
   "outputs": [],
   "source": [
    "import numpy as np\n",
    "import matplotlib.pyplot as plt\n",
    "from ipywidgets.widgets import interact "
   ]
  },
  {
   "cell_type": "code",
   "execution_count": 3,
   "metadata": {
    "collapsed": false
   },
   "outputs": [],
   "source": [
    "import interface_utils as util"
   ]
  },
  {
   "cell_type": "code",
   "execution_count": 4,
   "metadata": {
    "collapsed": false
   },
   "outputs": [],
   "source": [
    "import os\n",
    "os.environ['PATH'] += ':/data/pacbio_assembly/AwesomeAssembler/DALIGNER'\n",
    "#print os.popen(\"export\").read()"
   ]
  },
  {
   "cell_type": "code",
   "execution_count": 11,
   "metadata": {
    "collapsed": false
   },
   "outputs": [],
   "source": [
    "path = '/data/pacbio_assembly/AwesomeAssembler/data/'\n",
    "aln = []\n",
    "for item in util.get_alignments2(path+'ecoli',path+'ecoli.las',[2]):\n",
    "    aln.append(item)"
   ]
  },
  {
   "cell_type": "code",
   "execution_count": 6,
   "metadata": {
    "collapsed": false
   },
   "outputs": [
    {
     "data": {
      "text/plain": [
       "[['n', 0, 104, 170, 7424, 7424, 4749, 11779, 13726, 1294, 7],\n",
       " ['c', 0, 757, 206, 7424, 7424, 3568, 10592, 15876, 1242, 7],\n",
       " ['n', 0, 978, 214, 1850, 7424, 9996, 11675, 11675, 392, 1],\n",
       " ['n', 0, 1183, 1183, 3057, 7424, 156, 2065, 5115, 359, 2],\n",
       " ['n', 0, 1183, 3057, 6052, 7424, 2151, 5115, 5115, 517, 3]]"
      ]
     },
     "execution_count": 6,
     "metadata": {},
     "output_type": "execute_result"
    }
   ],
   "source": [
    "aln[0:5]"
   ]
  },
  {
   "cell_type": "code",
   "execution_count": 15,
   "metadata": {
    "collapsed": false
   },
   "outputs": [
    {
     "data": {
      "image/png": "[encoded data removed]",
      "text/plain": [
       "<matplotlib.figure.Figure at 0x7feb3eb9f250>"
      ]
     },
     "metadata": {},
     "output_type": "display_data"
    }
   ],
   "source": [
    "aln.sort(key = lambda x:x[3])\n",
    "num = len(aln)\n",
    "#size_chunk = num/10\n",
    "#for i in range(10):\n",
    "#    aln[i*size_chunk:min((i+1)*size_chunk, num)] = sorted(aln[i*size_chunk:min((i+1)*size_chunk, num)],key = lambda x: x[4]-x[3] ,reverse=True)\n",
    "\n",
    "plt.figure(figsize = (15,10))\n",
    "plt.axes()\n",
    "l = aln[0][5]\n",
    "plt.xlim(-2000,l+2000)\n",
    "plt.ylim(-5,num*10)\n",
    "points = [[0,0], [l,0], [l+40,2.5], [l,5], [0,5]]\n",
    "#rectangle = plt.Rectangle((0, 0), l, 5, fc='r',ec = 'none')\n",
    "polygon = plt.Polygon(points,fc = 'r', ec = 'none')\n",
    "plt.gca().add_patch(polygon)\n",
    "\n",
    "dotted_line = plt.Line2D((0, 0), (0, num*10 ),ls='-.')               \n",
    "plt.gca().add_line(dotted_line)\n",
    "\n",
    "dotted_line2 = plt.Line2D((l, l), (0, num*10 ),ls='-.')               \n",
    "plt.gca().add_line(dotted_line2)\n",
    "\n",
    "for i,item in enumerate(aln):\n",
    "    abpos = item[3]\n",
    "    aepos = item[4]\n",
    "    bbpos = item[6]\n",
    "    bepos = item[7]\n",
    "    blen = item[8]\n",
    "    strand = item[0]\n",
    "    points_begin = []\n",
    "    points_end = []\n",
    "    tip = l/200\n",
    "    ed = l/50\n",
    "    \n",
    "    if strand == 'n':\n",
    "        points = [[abpos, (i+1)*10], [aepos, (i+1)*10], [aepos + tip, (i+1)*10 + 2.5], [aepos, (i+1)*10+5], [abpos, (i+1)*10+5]]\n",
    "        if (bepos < blen):\n",
    "            points_end = [[aepos, (i+1)*10], [aepos + tip, (i+1)*10 + 2.5], [aepos, (i+1)*10+5], [aepos+ed, (i+1)*10+5], [aepos + ed+ tip, (i+1)*10 + 2.5],  [aepos+ed, (i+1)*10]]\n",
    "        if (bbpos > 0):\n",
    "            points_start = [[abpos, (i+1)*10], [abpos, (i+1)*10+5], [abpos-ed, (i+1)*10+5], [abpos-ed, (i+1)*10]]\n",
    "    else:\n",
    "        points = [[abpos, (i+1)*10], [aepos, (i+1)*10], [aepos, (i+1)*10+5], [abpos, (i+1)*10+5], [abpos - tip, (i+1)*10 + 2.5]]\n",
    "        if (bepos < blen):\n",
    "            points_end = [[aepos, (i+1)*10],  [aepos, (i+1)*10+5], [aepos+ed, (i+1)*10+5], [aepos+ed, (i+1)*10]]\n",
    "        if (bbpos > 0):\n",
    "            points_start = [[abpos, (i+1)*10],[abpos-tip, (i+1)*10+2.5], [abpos, (i+1)*10+5], [abpos-ed, (i+1)*10+5],[abpos-ed-tip, (i+1)*10+2.5], [abpos-ed, (i+1)*10]]\n",
    "    \n",
    "    polygon = plt.Polygon(points,fc = 'b', ec = 'none')\n",
    "    plt.gca().add_patch(polygon)\n",
    "    \n",
    "    if points_end != []:\n",
    "        polygon2 = plt.Polygon(points_end,fc = 'g', ec = 'none')\n",
    "        plt.gca().add_patch(polygon2)\n",
    "    \n",
    "\n",
    "    if points_start != []:\n",
    "        polygon2 = plt.Polygon(points_start,fc = 'g', ec = 'none')\n",
    "        plt.gca().add_patch(polygon2)\n",
    "    \n",
    "    plt.savefig('test.pdf')"
   ]
  },
  {
   "cell_type": "code",
   "execution_count": 12,
   "metadata": {
    "collapsed": false
   },
   "outputs": [
    {
     "data": {
      "text/plain": [
       "233"
      ]
     },
     "execution_count": 12,
     "metadata": {},
     "output_type": "execute_result"
    }
   ],
   "source": [
    "len(aln)"
   ]
  },
  {
   "cell_type": "code",
   "execution_count": null,
   "metadata": {
    "collapsed": true
   },
   "outputs": [],
   "source": []
  }
 ],
 "metadata": {
  "kernelspec": {
   "display_name": "Python 2",
   "language": "python",
   "name": "python2"
  },
  "language_info": {
   "codemirror_mode": {
    "name": "ipython",
    "version": 2
   },
   "file_extension": ".py",
   "mimetype": "text/x-python",
   "name": "python",
   "nbconvert_exporter": "python",
   "pygments_lexer": "ipython2",
   "version": "2.7.6"
  }
 },
 "nbformat": 4,
 "nbformat_minor": 0
}
